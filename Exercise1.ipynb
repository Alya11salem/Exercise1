{
  "nbformat": 4,
  "nbformat_minor": 0,
  "metadata": {
    "colab": {
      "name": "Untitled14.ipynb",
      "provenance": []
    },
    "kernelspec": {
      "name": "python3",
      "display_name": "Python 3"
    },
    "language_info": {
      "name": "python"
    }
  },
  "cells": [
    {
      "cell_type": "code",
      "metadata": {
        "colab": {
          "base_uri": "https://localhost:8080/"
        },
        "id": "mNRzSwNXsrrt",
        "outputId": "a17ee1b8-6f45-481a-f31e-114ae915e109"
      },
      "source": [
        "# Problem: Given an array arr[] of n integers,\n",
        "# construct a Product Array prod[] (of same size)\n",
        "# such that prod[i] is equal to the product of all\n",
        "# the elements of arr[] except arr[i].\n",
        "\n",
        "# Constraints: Solve it without division operator and in O(n)\n",
        "\n",
        "\n",
        "def computeProductArray(array, size):\n",
        "    # initialize three arrays of the same size as given array\n",
        "    # Left: will hold the product of all the elements to the left\n",
        "    # Right: will hold the product of all the elements to the right\n",
        "    # Product: contains the product value for current element\n",
        "\n",
        "    prod = [1] * size\n",
        "    left = [1] * size\n",
        "    right = [1] * size\n",
        "\n",
        "    for i in range(1, size):\n",
        "        left[i] = array[i - 1] * left[i - 1]\n",
        "    # decreasing loop in Python {start, end, step(-ve)}\n",
        "    # equivalent to (j=size-2; j>=0; j--)\n",
        "    for j in range(size - 2, -1, -1):\n",
        "        right[j] = array[j + 1] * right[j + 1]\n",
        "    for k in range(0, size):\n",
        "        prod[k] = left[k] * right[k]\n",
        "    print(prod)\n",
        "\n",
        "\n",
        "arr = [10, 3, 5, 6, 2]\n",
        "computeProductArray(arr, len(arr))\n",
        "# Result: [180, 600, 360, 300, 900]"
      ],
      "execution_count": 1,
      "outputs": [
        {
          "output_type": "stream",
          "name": "stdout",
          "text": [
            "[180, 600, 360, 300, 900]\n"
          ]
        }
      ]
    }
  ]
}